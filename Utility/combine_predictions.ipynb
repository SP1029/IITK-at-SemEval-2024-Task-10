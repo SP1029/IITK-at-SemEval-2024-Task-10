{
 "cells": [
  {
   "cell_type": "markdown",
   "metadata": {},
   "source": [
    "### To combine answer files for different tasks\n",
    "- Set None for whichever task file is not to be combined"
   ]
  },
  {
   "cell_type": "code",
   "execution_count": 15,
   "metadata": {},
   "outputs": [],
   "source": [
    "# File names for different tasks\n",
    "\n",
    "answer1 = \"answer1.txt\"\n",
    "answer2 = \"answer2.txt\"\n",
    "answer3 = \"answer3.txt\""
   ]
  },
  {
   "cell_type": "code",
   "execution_count": 16,
   "metadata": {},
   "outputs": [],
   "source": [
    "# Line numbers of each task in the txt file\n",
    "\n",
    "IX1_BEGIN = 0\n",
    "IX1_END = 1579\n",
    "IX2_BEGIN = 1580\n",
    "IX2_END = 9269\n",
    "IX3_BEGIN = 9270\n",
    "IX3_END = 17911"
   ]
  },
  {
   "cell_type": "code",
   "execution_count": 17,
   "metadata": {},
   "outputs": [],
   "source": [
    "# Read a file into the list - soln\n",
    "\n",
    "def load(soln, file_name, ix_begin, ix_end):\n",
    "\n",
    "    with open(file_name, 'r') as file:\n",
    "        ix = 0\n",
    "        while ix < ix_begin:\n",
    "            file.readline()\n",
    "            ix += 1\n",
    "\n",
    "        while ix <= ix_end:\n",
    "            line = file.readline()\n",
    "            soln[ix] = line[:-1]\n",
    "            ix += 1"
   ]
  },
  {
   "cell_type": "code",
   "execution_count": 18,
   "metadata": {},
   "outputs": [],
   "source": [
    "# Initialise the list - soln\n",
    "\n",
    "soln = [None] * 17912\n",
    "ix = 0\n",
    "\n",
    "while ix <= IX1_END:\n",
    "    soln[ix] = \"neutral\"\n",
    "    ix += 1\n",
    "\n",
    "while ix <= IX2_END:\n",
    "    soln[ix] = \"0.0\"\n",
    "    ix += 1\n",
    "\n",
    "while ix <= IX2_END:\n",
    "    soln[ix] = \"0.0\"\n",
    "    ix += 1"
   ]
  },
  {
   "cell_type": "code",
   "execution_count": 19,
   "metadata": {},
   "outputs": [],
   "source": [
    "# Load Data\n",
    "\n",
    "if answer1 != None:\n",
    "    load(soln, answer1, IX1_BEGIN, IX1_END)\n",
    "\n",
    "if answer2 != None:\n",
    "    load(soln, answer2, IX2_BEGIN, IX2_END)\n",
    "\n",
    "if answer3 != None:\n",
    "    load(soln, answer3, IX3_BEGIN, IX3_END)"
   ]
  },
  {
   "cell_type": "code",
   "execution_count": 20,
   "metadata": {},
   "outputs": [],
   "source": [
    "# Save the new file\n",
    "\n",
    "f = open(\"new_answer.txt\", 'w+')\n",
    "\n",
    "# MaSaC ERC\n",
    "for i in range(1580):\n",
    "    f.write(str(soln[i])+'\\n')\n",
    "\n",
    "# MaSaC EFR\n",
    "for i in range(1580, 9270):\n",
    "    f.write(str(soln[i])+'\\n')\n",
    "\n",
    "# MELD EFR\n",
    "for i in range(9270, 17912):\n",
    "    f.write(str(soln[i])+'\\n')\n",
    "f.close()"
   ]
  }
 ],
 "metadata": {
  "kernelspec": {
   "display_name": "env",
   "language": "python",
   "name": "python3"
  },
  "language_info": {
   "codemirror_mode": {
    "name": "ipython",
    "version": 3
   },
   "file_extension": ".py",
   "mimetype": "text/x-python",
   "name": "python",
   "nbconvert_exporter": "python",
   "pygments_lexer": "ipython3",
   "version": "3.10.11"
  }
 },
 "nbformat": 4,
 "nbformat_minor": 2
}
