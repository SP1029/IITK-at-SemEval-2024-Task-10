{
 "cells": [
  {
   "cell_type": "markdown",
   "metadata": {},
   "source": [
    "### Code to compute the Voyage-AI embeddings of utterances\n",
    "- Update the file paths to proceed and API_KEY"
   ]
  },
  {
   "cell_type": "code",
   "execution_count": null,
   "metadata": {},
   "outputs": [],
   "source": [
    "# Importing Libraries\n",
    "\n",
    "import string\n",
    "import re\n",
    "import json\n",
    "import pickle\n",
    "import torch\n",
    "from tqdm import tqdm"
   ]
  },
  {
   "cell_type": "code",
   "execution_count": null,
   "metadata": {},
   "outputs": [],
   "source": [
    "# Training and Validation File Path\n",
    "\n",
    "file_train = \"MELD_test_efr.json\"\n",
    "file_val = \"MELD_val_efr.json\""
   ]
  },
  {
   "cell_type": "code",
   "execution_count": null,
   "metadata": {},
   "outputs": [],
   "source": [
    "# Preprocessing Functions\n",
    "\n",
    "numbers = {\n",
    "    \"0\": \"zero\",\n",
    "    \"1\": \"one\",\n",
    "    \"2\": \"two\",\n",
    "    \"3\": \"three\",\n",
    "    \"4\": \"four\",\n",
    "    \"5\": \"five\",\n",
    "    \"6\": \"six\",\n",
    "    \"7\": \"seven\",\n",
    "    \"8\": \"eight\",\n",
    "    \"9\": \"nine\"\n",
    "}\n",
    "\n",
    "\n",
    "def remove_puntuations(txt):\n",
    "    punct = set(string.punctuation)\n",
    "    txt = \" \".join(txt.split(\".\"))\n",
    "    txt = \" \".join(txt.split(\"!\"))\n",
    "    txt = \" \".join(txt.split(\"?\"))\n",
    "    txt = \" \".join(txt.split(\":\"))\n",
    "    txt = \" \".join(txt.split(\";\"))\n",
    "\n",
    "    txt = \"\".join(ch for ch in txt if ch not in punct)\n",
    "    return txt\n",
    "\n",
    "\n",
    "def number_to_words(txt):\n",
    "    for k in numbers.keys():\n",
    "        txt = txt.replace(k, numbers[k]+\" \")\n",
    "    return txt\n",
    "\n",
    "\n",
    "def preprocess_text(text):\n",
    "    text = text.lower()\n",
    "    text = re.sub(r'_', ' ', text)\n",
    "    text = number_to_words(text)\n",
    "    text = remove_puntuations(text)\n",
    "    text = ''.join([i if ord(i) < 128 else '' for i in text])\n",
    "    text = ' '.join(text.split())\n",
    "    return text"
   ]
  },
  {
   "cell_type": "code",
   "execution_count": null,
   "metadata": {},
   "outputs": [],
   "source": [
    "# Enter the API KEY - https://docs.voyageai.com/install/\n",
    "\n",
    "import voyageai\n",
    "vo = voyageai.Client(\"[API_KEY]\")"
   ]
  },
  {
   "cell_type": "code",
   "execution_count": null,
   "metadata": {},
   "outputs": [],
   "source": [
    "# Get the embeddings of the sentences\n",
    "\n",
    "def get_sens_embed(query_list):\n",
    "    result = vo.embed(\n",
    "        query_list, model=\"voyage-lite-02-instruct\", input_type='document')\n",
    "    embed = torch.tensor(result.embeddings)\n",
    "    return embed"
   ]
  },
  {
   "cell_type": "code",
   "execution_count": null,
   "metadata": {},
   "outputs": [],
   "source": [
    "# Add Voyage Embeddings from a file to ans_dict\n",
    "\n",
    "def add_voy_embeddings(filename, ans_dict):\n",
    "\n",
    "    # Constants\n",
    "    MAX_UTT = 100\n",
    "    MAX_TOKENS = 2000\n",
    "\n",
    "    # Read File\n",
    "    with open(filename, 'r') as file:\n",
    "        dataset = json.load(file)\n",
    "\n",
    "    N = len(dataset)\n",
    "\n",
    "    # Reading the data\n",
    "\n",
    "    episodes_list = []\n",
    "    speakers_list = []\n",
    "    utterances_list = []\n",
    "    triggers_list = []\n",
    "    emotions_list = []\n",
    "\n",
    "    for i in tqdm(range(len(dataset)), ncols=100, desc='Extracting data'):\n",
    "        utterances_list.append(dataset[i]['utterances'])\n",
    "\n",
    "    # Store the preprocessed utterance as key and utterance as value\n",
    "\n",
    "    query_dict = {}\n",
    "\n",
    "    for i in tqdm(range(N), ncols=100, desc='Preprocessing'):\n",
    "        for j in range(len(utterances_list[i])):\n",
    "            utt = utterances_list[i][j]\n",
    "            pp_utt = preprocess_text(utterances_list[i][j])\n",
    "            query_dict[pp_utt] = utt\n",
    "\n",
    "    # Get the embeddings ensuring to not exceed token and sentence limit per query\n",
    "\n",
    "    pp_utt_list = []\n",
    "    utt_list = []\n",
    "\n",
    "    for pp_utt, utt in tqdm(query_dict.items()):\n",
    "        if vo.count_tokens(utt_list) < MAX_TOKENS and len(utt_list) < MAX_UTT:\n",
    "            utt_list.append(utt)\n",
    "            pp_utt_list.append(pp_utt)\n",
    "        else:\n",
    "            utt_list.append(utt)\n",
    "            pp_utt_list.append(pp_utt)\n",
    "            utt_emb_list = get_sens_embed(utt_list)\n",
    "            for i, utt_emb in enumerate(utt_emb_list):\n",
    "                ans_dict[pp_utt_list[i]] = utt_emb\n",
    "            pp_utt_list = []\n",
    "            utt_list = []\n",
    "\n",
    "    if len(pp_utt_list) > 0:\n",
    "        utt_emb_list = get_sens_embed(utt_list)\n",
    "        for i, utt_emb in enumerate(utt_emb_list):\n",
    "            ans_dict[pp_utt_list[i]] = utt_emb\n",
    "        pp_utt_list = []\n",
    "        utt_list = []"
   ]
  },
  {
   "cell_type": "code",
   "execution_count": null,
   "metadata": {},
   "outputs": [],
   "source": [
    "# Add the embeddings for files\n",
    "\n",
    "ans_dict = {}\n",
    "add_voy_embeddings(file_train, ans_dict)\n",
    "add_voy_embeddings(file_val, ans_dict)"
   ]
  },
  {
   "cell_type": "code",
   "execution_count": null,
   "metadata": {},
   "outputs": [],
   "source": [
    "# Cleaning\n",
    "\n",
    "new_ans_dict = {}\n",
    "for x, y in ans_dict.items():\n",
    "    new_ans_dict[x] = y.clone()\n",
    "ans_dict = new_ans_dict"
   ]
  },
  {
   "cell_type": "code",
   "execution_count": null,
   "metadata": {},
   "outputs": [],
   "source": [
    "# Save the file\n",
    "\n",
    "with open('sent2emb.pickle', 'wb') as handle:\n",
    "    pickle.dump(ans_dict, handle, protocol=pickle.HIGHEST_PROTOCOL)"
   ]
  }
 ],
 "metadata": {
  "kernelspec": {
   "display_name": "pytorch_cuda_py39",
   "language": "python",
   "name": "python3"
  },
  "language_info": {
   "codemirror_mode": {
    "name": "ipython",
    "version": 3
   },
   "file_extension": ".py",
   "mimetype": "text/x-python",
   "name": "python",
   "nbconvert_exporter": "python",
   "pygments_lexer": "ipython3",
   "version": "3.10.11"
  }
 },
 "nbformat": 4,
 "nbformat_minor": 2
}
