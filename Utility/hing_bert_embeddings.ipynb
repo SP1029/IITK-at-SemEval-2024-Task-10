{
 "cells": [
  {
   "cell_type": "markdown",
   "metadata": {},
   "source": [
    "### Inspiration Tutorial\n",
    "https://colab.research.google.com/drive/1ZQvuAVwA3IjybezQOXnrXMGAnMyZRuPU"
   ]
  },
  {
   "cell_type": "markdown",
   "metadata": {},
   "source": [
    "### Code to convert Utterances to Hing-BERT Embeddings \n",
    "- https://huggingface.co/l3cube-pune/hing-bert\n",
    "- Update the file paths to proceed"
   ]
  },
  {
   "cell_type": "code",
   "execution_count": null,
   "metadata": {},
   "outputs": [],
   "source": [
    "# Importing Libraries\n",
    "\n",
    "import string\n",
    "import re\n",
    "import json\n",
    "import pickle\n",
    "import torch\n",
    "from transformers import BertTokenizer, BertModel\n",
    "from tqdm import tqdm"
   ]
  },
  {
   "cell_type": "code",
   "execution_count": null,
   "metadata": {},
   "outputs": [],
   "source": [
    "# Training and Validation File Path\n",
    "\n",
    "file_train = \"MaSaC_train_erc.json\"\n",
    "file_val = \"MaSaC_val_erc.json\""
   ]
  },
  {
   "cell_type": "code",
   "execution_count": null,
   "metadata": {},
   "outputs": [],
   "source": [
    "# Preprocessing Functions\n",
    "\n",
    "numbers = {\n",
    "    \"0\": \"zero\",\n",
    "    \"1\": \"one\",\n",
    "    \"2\": \"two\",\n",
    "    \"3\": \"three\",\n",
    "    \"4\": \"four\",\n",
    "    \"5\": \"five\",\n",
    "    \"6\": \"six\",\n",
    "    \"7\": \"seven\",\n",
    "    \"8\": \"eight\",\n",
    "    \"9\": \"nine\"\n",
    "}\n",
    "\n",
    "\n",
    "def remove_puntuations(txt):\n",
    "    punct = set(string.punctuation)\n",
    "    txt = \" \".join(txt.split(\".\"))\n",
    "    txt = \" \".join(txt.split(\"!\"))\n",
    "    txt = \" \".join(txt.split(\"?\"))\n",
    "    txt = \" \".join(txt.split(\":\"))\n",
    "    txt = \" \".join(txt.split(\";\"))\n",
    "\n",
    "    txt = \"\".join(ch for ch in txt if ch not in punct)\n",
    "    return txt\n",
    "\n",
    "\n",
    "def number_to_words(txt):\n",
    "    for k in numbers.keys():\n",
    "        txt = txt.replace(k, numbers[k]+\" \")\n",
    "    return txt\n",
    "\n",
    "\n",
    "def preprocess_text(text):\n",
    "    text = text.lower()\n",
    "    text = re.sub(r'_', ' ', text)\n",
    "    text = number_to_words(text)\n",
    "    text = remove_puntuations(text)\n",
    "    text = ''.join([i if ord(i) < 128 else '' for i in text])\n",
    "    text = ' '.join(text.split())\n",
    "    return text"
   ]
  },
  {
   "cell_type": "code",
   "execution_count": null,
   "metadata": {},
   "outputs": [],
   "source": [
    "# Setting the default torch device\n",
    "torch.set_default_device('cuda')"
   ]
  },
  {
   "cell_type": "code",
   "execution_count": null,
   "metadata": {},
   "outputs": [],
   "source": [
    "# Load pre-trained model tokenizer (vocabulary)\n",
    "tokenizer = BertTokenizer.from_pretrained('l3cube-pune/hing-bert')\n",
    "\n",
    "# Load pre-trained model (weights)\n",
    "model = BertModel.from_pretrained('l3cube-pune/hing-bert',\n",
    "                                  # Whether the model returns all hidden-states.\n",
    "                                  output_hidden_states=True,\n",
    "                                  )"
   ]
  },
  {
   "cell_type": "code",
   "execution_count": null,
   "metadata": {},
   "outputs": [],
   "source": [
    "# Get the utterance embedding for one utterances\n",
    "\n",
    "def get_utt_embed(utt):\n",
    "    # Run the text through BERT, and compute the average of the hidden states produced\n",
    "    # from the last 4 layers.\n",
    "    with torch.no_grad():\n",
    "\n",
    "        # Add the special tokens.\n",
    "        marked_text = \"[CLS] \" + utt + \" [SEP]\"\n",
    "\n",
    "        # Split the sentence into tokens.\n",
    "        tokenized_text = tokenizer.tokenize(marked_text)\n",
    "\n",
    "        # Map the token strings to their vocabulary indeces.\n",
    "        indexed_tokens = tokenizer.convert_tokens_to_ids(tokenized_text)\n",
    "\n",
    "        # Mark each of the tokens as belonging to sentence \"1\".\n",
    "        segments_ids = [1] * len(tokenized_text)\n",
    "\n",
    "        # Convert inputs to PyTorch tensors\n",
    "        tokens_tensor = torch.tensor([indexed_tokens])\n",
    "        segments_tensors = torch.tensor([segments_ids])\n",
    "\n",
    "        outputs = model(tokens_tensor, segments_tensors)\n",
    "        hidden_states = outputs[2]\n",
    "\n",
    "    # Concatenate the tensors for all layers. We use `stack` here to\n",
    "    # create a new dimension in the tensor.\n",
    "    token_embeddings = torch.stack(hidden_states, dim=0)\n",
    "\n",
    "    # Remove dimension 1, the \"batches\".\n",
    "    token_embeddings = torch.squeeze(token_embeddings, dim=1)\n",
    "\n",
    "    # Swap dimensions 0 and 1.\n",
    "    token_embeddings = token_embeddings.permute(1, 0, 2)\n",
    "\n",
    "    # Stores the token vectors\n",
    "    token_vecs_cat = []\n",
    "    token_vecs_sum = []\n",
    "\n",
    "    for token in token_embeddings:\n",
    "        # Sum the vectors from the last four layers.\n",
    "        sum_vec = torch.sum(token[-4:], dim=0)\n",
    "        token_vecs_sum.append(sum_vec)\n",
    "\n",
    "    token_vecs = hidden_states[-2][0]\n",
    "\n",
    "    # Calculate the average of all the token vectors.\n",
    "    sentence_embedding = torch.mean(token_vecs, dim=0)\n",
    "\n",
    "    return sentence_embedding"
   ]
  },
  {
   "cell_type": "code",
   "execution_count": null,
   "metadata": {},
   "outputs": [],
   "source": [
    "# Add BERT Embeddings from a file to ans_dict\n",
    "def add_bert_embeddings(filename, ans_dict):\n",
    "\n",
    "    # Read File\n",
    "    with open(filename, 'r') as file:\n",
    "        dataset = json.load(file)\n",
    "\n",
    "    N = len(dataset)\n",
    "\n",
    "    # Reading the data\n",
    "\n",
    "    episodes_list = []\n",
    "    speakers_list = []\n",
    "    utterances_list = []\n",
    "    triggers_list = []\n",
    "    emotions_list = []\n",
    "\n",
    "    for i in tqdm(range(len(dataset)), ncols=100, desc='Extracting data'):\n",
    "        utterances_list.append(dataset[i]['utterances'])\n",
    "\n",
    "    for i in tqdm(range(N), ncols=100, desc='Generating embeddings'):\n",
    "        for j in range(len(utterances_list[i])):\n",
    "            utt = utterances_list[i][j]\n",
    "            pp_utt = preprocess_text(utt)\n",
    "            utt_emb = get_utt_embed(utt)\n",
    "            ans_dict[pp_utt] = utt_emb"
   ]
  },
  {
   "cell_type": "code",
   "execution_count": null,
   "metadata": {},
   "outputs": [],
   "source": [
    "# Add the embeddings for files\n",
    "\n",
    "ans_dict = {}\n",
    "add_bert_embeddings(file_train, ans_dict)\n",
    "add_bert_embeddings(file_val, ans_dict)"
   ]
  },
  {
   "cell_type": "code",
   "execution_count": null,
   "metadata": {},
   "outputs": [],
   "source": [
    "# Save the file\n",
    "\n",
    "with open('sent2emb.pickle', 'wb') as handle:\n",
    "    pickle.dump(ans_dict, handle, protocol=pickle.HIGHEST_PROTOCOL)"
   ]
  }
 ],
 "metadata": {
  "kernelspec": {
   "display_name": "pytorch_cuda_py39",
   "language": "python",
   "name": "python3"
  },
  "language_info": {
   "codemirror_mode": {
    "name": "ipython",
    "version": 3
   },
   "file_extension": ".py",
   "mimetype": "text/x-python",
   "name": "python",
   "nbconvert_exporter": "python",
   "pygments_lexer": "ipython3",
   "version": "3.10.11"
  }
 },
 "nbformat": 4,
 "nbformat_minor": 2
}
