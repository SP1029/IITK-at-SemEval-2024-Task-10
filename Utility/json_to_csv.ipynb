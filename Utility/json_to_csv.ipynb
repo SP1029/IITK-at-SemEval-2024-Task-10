{
 "cells": [
  {
   "cell_type": "markdown",
   "metadata": {},
   "source": [
    "### Code Convert Jsons to expected csv format\n",
    "- Update the file initials and flags to proceed"
   ]
  },
  {
   "cell_type": "code",
   "execution_count": null,
   "metadata": {},
   "outputs": [],
   "source": [
    "# File Initials\n",
    "\n",
    "file_initials = \"MELD_test_efr\"\n",
    "is_erc = False\n",
    "is_test = True"
   ]
  },
  {
   "cell_type": "code",
   "execution_count": null,
   "metadata": {},
   "outputs": [],
   "source": [
    "# Import Libraries\n",
    "\n",
    "import json\n",
    "import pandas as pd"
   ]
  },
  {
   "cell_type": "code",
   "execution_count": null,
   "metadata": {},
   "outputs": [],
   "source": [
    "# Read File\n",
    "\n",
    "file_name = \"./\" + file_initials + \".json\"\n",
    "with open(file_name, 'r') as file:\n",
    "        dataset = json.load(file)"
   ]
  },
  {
   "cell_type": "code",
   "execution_count": null,
   "metadata": {},
   "outputs": [],
   "source": [
    "# Reading the data\n",
    "\n",
    "episodes_list = []\n",
    "speakers_list = []\n",
    "utterances_list = []\n",
    "triggers_list = []\n",
    "emotions_list = []\n",
    "\n",
    "for i in range(len(dataset)):\n",
    "    episodes_list.append(dataset[i]['episode'])\n",
    "    speakers_list.append(dataset[i]['speakers'])\n",
    "    utterances_list.append(dataset[i]['utterances'])\n",
    "\n",
    "    if is_erc == True:\n",
    "        triggers_list.append([0]*len(dataset[i]['speakers']))\n",
    "\n",
    "        if is_test == False:\n",
    "            emotions_list.append(dataset[i]['emotions'])\n",
    "        else:\n",
    "            emotions_list.append([\"neutral\"]*len(dataset[i]['speakers']))\n",
    "\n",
    "    else:\n",
    "        emotions_list.append(dataset[i]['emotions'])\n",
    "\n",
    "        if is_test == False:\n",
    "            triggers_list.append(dataset[i]['triggers'])\n",
    "        else:\n",
    "            triggers_list.append([0]*len(dataset[i]['speakers']))\n",
    "\n",
    "N = len(dataset)"
   ]
  },
  {
   "cell_type": "code",
   "execution_count": null,
   "metadata": {},
   "outputs": [],
   "source": [
    "# Change the headings for the csv\n",
    "\n",
    "headings = [\"Dialogue_Id\", \"Speaker\", \"Emotion_name\", \"Utterance\", \"Annotate(0/1)\"]"
   ]
  },
  {
   "cell_type": "code",
   "execution_count": null,
   "metadata": {},
   "outputs": [],
   "source": [
    "# Loading Data for the csv\n",
    "\n",
    "data = [[], [], [], [], []]\n",
    "\n",
    "prev_first_sen = None\n",
    "d_id = -1\n",
    "for i in range(N):\n",
    "    if prev_first_sen != utterances_list[i][0]:\n",
    "        d_id += 1\n",
    "        prev_first_sen = utterances_list[i][0]\n",
    "\n",
    "    for j in range(len(utterances_list[i])):\n",
    "        data[0].append(d_id)\n",
    "        data[1].append(speakers_list[i][j])\n",
    "        data[2].append(emotions_list[i][j])\n",
    "        data[3].append(utterances_list[i][j])\n",
    "        data[4].append(triggers_list[i][j])\n",
    "\n",
    "    data[0].append(\"\")\n",
    "    data[1].append(\"\")\n",
    "    data[2].append(\"\")\n",
    "    data[3].append(\"\")\n",
    "    data[4].append(\"\")\n",
    "\n",
    "if is_erc:\n",
    "    d_id += 1\n",
    "    data[0].append(d_id)\n",
    "    data[1].append(\"\")\n",
    "    data[2].append(\"\")\n",
    "    data[3].append(\"\")\n",
    "    data[4].append(\"\")"
   ]
  },
  {
   "cell_type": "code",
   "execution_count": null,
   "metadata": {},
   "outputs": [],
   "source": [
    "# Convert to csv and save\n",
    "\n",
    "df = pd.DataFrame(data)\n",
    "df = df.transpose()\n",
    "df.columns = headings\n",
    "df.to_csv(file_initials + \".csv\", index=False)"
   ]
  }
 ],
 "metadata": {
  "kernelspec": {
   "display_name": "env",
   "language": "python",
   "name": "python3"
  },
  "language_info": {
   "codemirror_mode": {
    "name": "ipython",
    "version": 3
   },
   "file_extension": ".py",
   "mimetype": "text/x-python",
   "name": "python",
   "nbconvert_exporter": "python",
   "pygments_lexer": "ipython3",
   "version": "0.0.0"
  },
  "orig_nbformat": 4
 },
 "nbformat": 4,
 "nbformat_minor": 2
}
