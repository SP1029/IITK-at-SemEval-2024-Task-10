{
 "cells": [
  {
   "cell_type": "code",
   "execution_count": 5,
   "metadata": {},
   "outputs": [],
   "source": [
    "# File Initials\n",
    "\n",
    "file_initials = \"MELD_test_efr\"\n",
    "is_test = True"
   ]
  },
  {
   "cell_type": "code",
   "execution_count": 6,
   "metadata": {},
   "outputs": [],
   "source": [
    "# Import Libraries\n",
    "\n",
    "import json\n",
    "from collections import Counter\n",
    "import pandas as pd"
   ]
  },
  {
   "cell_type": "code",
   "execution_count": 7,
   "metadata": {},
   "outputs": [],
   "source": [
    "# Read File\n",
    "\n",
    "file_name = \"./\" + file_initials + \".json\"\n",
    "with open(file_name, 'r') as file:\n",
    "    dataset = json.load(file)"
   ]
  },
  {
   "cell_type": "code",
   "execution_count": 8,
   "metadata": {},
   "outputs": [],
   "source": [
    "# Reading the data\n",
    "\n",
    "episodes_list = []\n",
    "speakers_list = []\n",
    "utterances_list = []\n",
    "triggers_list = []\n",
    "emotions_list = []\n",
    "\n",
    "for i in range(len(dataset)):\n",
    "    episodes_list.append(dataset[i]['episode'])\n",
    "    speakers_list.append(dataset[i]['speakers'])\n",
    "    utterances_list.append(dataset[i]['utterances'])\n",
    "    if is_test:\n",
    "        triggers_list.append([0.0] * len(dataset[i]['speakers']))\n",
    "    else:\n",
    "        triggers_list.append(dataset[i]['triggers'])\n",
    "    emotions_list.append(dataset[i]['emotions'])\n",
    "\n",
    "N = len(dataset)"
   ]
  },
  {
   "cell_type": "code",
   "execution_count": 9,
   "metadata": {},
   "outputs": [],
   "source": [
    "new_dataset = []\n",
    "\n",
    "for i in range(len(dataset)):\n",
    "    new_speakers_list = []\n",
    "    new_utterances_list = []\n",
    "    new_triggers_list = []\n",
    "    new_emotions_list = []\n",
    "\n",
    "    flag = False\n",
    "    count_utt = len(utterances_list[i])\n",
    "    target_speaker = speakers_list[i][count_utt-1]\n",
    "    for j in range(count_utt):\n",
    "        ix = count_utt - 1 - j\n",
    "\n",
    "        new_speakers_list.append(speakers_list[i][ix])\n",
    "        new_utterances_list.append(utterances_list[i][ix])\n",
    "        new_triggers_list.append(triggers_list[i][ix])\n",
    "        new_emotions_list.append(emotions_list[i][ix])\n",
    "\n",
    "        if flag:\n",
    "            new_speakers_list.reverse()\n",
    "            new_utterances_list.reverse()\n",
    "            new_triggers_list.reverse()\n",
    "            new_emotions_list.reverse()\n",
    "\n",
    "            dict = {}\n",
    "            dict[\"episode\"] = i\n",
    "            dict[\"speakers\"] = new_speakers_list\n",
    "            dict[\"utterances\"] = new_utterances_list\n",
    "            dict[\"triggers\"] = new_triggers_list\n",
    "            dict[\"emotions\"] = new_emotions_list\n",
    "            new_dataset.append(dict)\n",
    "            break\n",
    "        if speakers_list[i][ix-1] == target_speaker or j == 3:\n",
    "            flag = True"
   ]
  },
  {
   "cell_type": "code",
   "execution_count": 10,
   "metadata": {},
   "outputs": [],
   "source": [
    "import json\n",
    "with open(file_initials + '_new.json', 'w+') as f:\n",
    "    json.dump(new_dataset, f)"
   ]
  },
  {
   "cell_type": "code",
   "execution_count": null,
   "metadata": {},
   "outputs": [],
   "source": []
  }
 ],
 "metadata": {
  "kernelspec": {
   "display_name": "env",
   "language": "python",
   "name": "python3"
  },
  "language_info": {
   "codemirror_mode": {
    "name": "ipython",
    "version": 3
   },
   "file_extension": ".py",
   "mimetype": "text/x-python",
   "name": "python",
   "nbconvert_exporter": "python",
   "pygments_lexer": "ipython3",
   "version": "3.10.11"
  }
 },
 "nbformat": 4,
 "nbformat_minor": 2
}
